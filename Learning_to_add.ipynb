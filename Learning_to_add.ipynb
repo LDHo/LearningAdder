{
  "nbformat": 4,
  "nbformat_minor": 0,
  "metadata": {
    "colab": {
      "name": "Learning_to_add.ipynb",
      "version": "0.3.2",
      "views": {},
      "default_view": {},
      "provenance": [],
      "collapsed_sections": []
    },
    "kernelspec": {
      "display_name": "Python 3",
      "language": "python",
      "name": "python3"
    },
    "accelerator": "GPU"
  },
  "cells": [
    {
      "metadata": {
        "id": "3OjP2Zstaznj",
        "colab_type": "code",
        "colab": {
          "autoexec": {
            "startup": false,
            "wait_interval": 0
          },
          "output_extras": [
            {
              "item_id": 3
            }
          ],
          "base_uri": "https://localhost:8080/",
          "height": 85
        },
        "outputId": "140cbfab-4a38-434f-f0b6-4d86ebfb7558",
        "executionInfo": {
          "status": "ok",
          "timestamp": 1522075625044,
          "user_tz": -480,
          "elapsed": 3207,
          "user": {
            "displayName": "Jacky Ho",
            "photoUrl": "https://lh3.googleusercontent.com/a/default-user=s128",
            "userId": "110853316533016897850"
          }
        }
      },
      "cell_type": "code",
      "source": [
        "from google.colab import auth\n",
        "auth.authenticate_user()\n",
        "project_id = 'final-year-project-195808'\n",
        "!gcloud config set project {project_id}\n",
        "!gsutil cp gs://myharddisk-1/learntoadd_data.pkl /"
      ],
      "execution_count": 1,
      "outputs": [
        {
          "output_type": "stream",
          "text": [
            "Updated property [core/project].\n",
            "Copying gs://myharddisk-1/learntoadd_data.pkl...\n",
            "- [1 files][  1.8 MiB/  1.8 MiB]                                                \n",
            "Operation completed over 1 objects/1.8 MiB.                                      \n"
          ],
          "name": "stdout"
        }
      ]
    },
    {
      "metadata": {
        "id": "zGQLXfK2b1YX",
        "colab_type": "code",
        "colab": {
          "autoexec": {
            "startup": false,
            "wait_interval": 0
          },
          "output_extras": [
            {
              "item_id": 1
            }
          ],
          "base_uri": "https://localhost:8080/",
          "height": 34
        },
        "outputId": "f6919fce-3fc3-4a0f-8f9f-7fe74d8fdba7",
        "executionInfo": {
          "status": "ok",
          "timestamp": 1522075641161,
          "user_tz": -480,
          "elapsed": 806,
          "user": {
            "displayName": "Jacky Ho",
            "photoUrl": "https://lh3.googleusercontent.com/a/default-user=s128",
            "userId": "110853316533016897850"
          }
        }
      },
      "cell_type": "code",
      "source": [
        "ls"
      ],
      "execution_count": 4,
      "outputs": [
        {
          "output_type": "stream",
          "text": [
            "learntoadd_data.pkl\r\n"
          ],
          "name": "stdout"
        }
      ]
    },
    {
      "metadata": {
        "id": "LcMRKTbwajlk",
        "colab_type": "text"
      },
      "cell_type": "markdown",
      "source": [
        "# Practical Assignment for UCCD3074 (Trimester Jan 2018)\n",
        "\n",
        "## Addition using RNN\n",
        "\n",
        "This objective of this assignment is to implement a sequence-to-sequence learning for performing addition. The input is a sequence of characters (the addition statement). The expected output is also a sequence of characters (the result). For example:\n",
        "\n",
        "Input: \"535+61\"\n",
        "<br> Output: \"596\"\n",
        "\n",
        "**Assumptions:**\n",
        "* Each character is presented to your system one character at a time. You can make the following assumptions:\n",
        "* Each number is restricted to a maximum number of digits\n",
        "* There are no spaces in the middle of the addition statements.\n",
        "* Spaces can be padded to the left or right of the statements to make the size of each sequence consistent.\n",
        "\n",
        "**Architecture:**\n",
        "* A default working architecture has been provided for you. The architecture has been shown to generate an accuracy of at least 94%.\n",
        "\n",
        "**Enhancements:**\n",
        "<br> Any enhancement to the requirement is most welcomed and marks would be awarded accordingly. Among the enhancement that you may try out are:\n",
        "* Allowing an arbitrary length of a sequence\n",
        "* Propose a different and better architecture (must be verified by experiments)\n",
        "* Propose enhancements to improve the result (e.g., inverting the input has been shown to improve the result)."
      ]
    },
    {
      "metadata": {
        "id": "5xNrXXTeajlo",
        "colab_type": "code",
        "colab": {
          "autoexec": {
            "startup": false,
            "wait_interval": 0
          }
        }
      },
      "cell_type": "code",
      "source": [
        "from __future__ import print_function\n",
        "from keras.models import Sequential, load_model, save_model\n",
        "from keras.layers import LSTM, Activation, Dense, RepeatVector, TimeDistributed\n",
        "from keras.optimizers import RMSprop,Adam\n",
        "from keras.utils import np_utils\n",
        "import numpy as np\n",
        "from six.moves import range"
      ],
      "execution_count": 0,
      "outputs": []
    },
    {
      "metadata": {
        "id": "F0IdgL0majl6",
        "colab_type": "text"
      },
      "cell_type": "markdown",
      "source": [
        "# Load the dataset"
      ]
    },
    {
      "metadata": {
        "id": "qGdJiIilajl9",
        "colab_type": "text"
      },
      "cell_type": "markdown",
      "source": [
        "The following code load the raw input for training and testing purposes. Each sample is a string of 7 characters representing an addition operation. The numbers considered range from 1 to 999 (3 digits). The output is a string of 4 characters (Addition of two numbers in hundreds (3 digits) can only produce a number in thousands (four digits)). Both sequence will be right padded with space if necessary.\n",
        "```\n",
        "Input:  ['942+607', '702+812', '8+85   ', '41+131 ', '52+3   ', ...]\n",
        "Output: ['1549', '1514', '93  ', '172 ', '55  ', ...]\n",
        "```\n",
        "The pickle file `learntoadd_data.pkl` contains the training input (`X_train`), training labels (`y_train`) and testing input (`X_test`). For the testing samples, only the inputs (`y_test`) will not be provided."
      ]
    },
    {
      "metadata": {
        "id": "eaYI_ukGajmA",
        "colab_type": "code",
        "colab": {
          "autoexec": {
            "startup": false,
            "wait_interval": 0
          }
        }
      },
      "cell_type": "code",
      "source": [
        "import pickle\n",
        "with open('learntoadd_data.pkl', 'rb') as f:\n",
        "    X_train_raw, X_test_raw, y_train_raw, y_test_raw = pickle.load(f)"
      ],
      "execution_count": 0,
      "outputs": []
    },
    {
      "metadata": {
        "id": "oxODcqdnajmH",
        "colab_type": "text"
      },
      "cell_type": "markdown",
      "source": [
        "# Data preparation"
      ]
    },
    {
      "metadata": {
        "id": "m_nxWbk0ajmK",
        "colab_type": "text"
      },
      "cell_type": "markdown",
      "source": [
        "First, we set the maximum number of digits for each number and the maximum number of characters in each addition statement."
      ]
    },
    {
      "metadata": {
        "id": "lt3RYbqnajmL",
        "colab_type": "code",
        "colab": {
          "autoexec": {
            "startup": false,
            "wait_interval": 0
          }
        }
      },
      "cell_type": "code",
      "source": [
        "max_digits_per_num = 3                                                       # maximum number of digits for each number\n",
        "max_chr_per_operation = max_digits_per_num + 1 + max_digits_per_num          # Maximum length of input is 'int + int' (e.g., '345+678'). Maximum length of int is max_digits_per_num."
      ],
      "execution_count": 0,
      "outputs": []
    },
    {
      "metadata": {
        "id": "7yHYKIqVajmT",
        "colab_type": "text"
      },
      "cell_type": "markdown",
      "source": [
        "**Converting into one-hot encoding representation**\n",
        "\n",
        "Perform data pre-processing for your task. For this section, you should transform each character using one-hot encoding. For this task, use the following encoding table which include the numeric characters(`0` to `9`), the addition (`+`) and a space (`' '`) as follows\n",
        "```\n",
        "chars = '0123456789+ '\n",
        "```\n",
        "Thus each character will be transformed into a binary vector of size 12. For example:\n",
        "* `'0'` will be represented by `100000000000` \n",
        "* `'1'` will be represented by `010000000000`\n",
        "* `' '` will be represented by `000000000001`\n",
        "\n",
        "Therefore, each sample (e.g., `'942+607'`) will be translated into a matrix of size `7x12` where each row represent one chracter. For example, our testing set has a total of 10000 testing samples and its one hot representation has a size of `(10000, 7, 12)`."
      ]
    },
    {
      "metadata": {
        "id": "PyIBAFPAajmU",
        "colab_type": "code",
        "colab": {
          "autoexec": {
            "startup": false,
            "wait_interval": 0
          }
        }
      },
      "cell_type": "code",
      "source": [
        "# Your code here\n",
        "X_train_raw=np.asarray(X_train_raw)\n",
        "X_test_raw=np.asarray(X_test_raw)\n",
        "y_train_raw=np.asarray(y_train_raw)\n",
        "y_test_raw=np.asarray(y_test_raw)"
      ],
      "execution_count": 0,
      "outputs": []
    },
    {
      "metadata": {
        "id": "skCYXRtuajma",
        "colab_type": "code",
        "colab": {
          "autoexec": {
            "startup": false,
            "wait_interval": 0
          },
          "output_extras": [
            {
              "item_id": 1
            }
          ],
          "base_uri": "https://localhost:8080/",
          "height": 85
        },
        "outputId": "e4c71847-bb8d-423a-e34d-157b17adeae7",
        "executionInfo": {
          "status": "ok",
          "timestamp": 1522075675836,
          "user_tz": -480,
          "elapsed": 915,
          "user": {
            "displayName": "Jacky Ho",
            "photoUrl": "https://lh3.googleusercontent.com/a/default-user=s128",
            "userId": "110853316533016897850"
          }
        }
      },
      "cell_type": "code",
      "source": [
        "print('X_train_raw shape:',X_train_raw.shape)\n",
        "print('X_test_raw shape:',X_test_raw.shape)\n",
        "print('y_train_raw shape:',y_train_raw.shape)\n",
        "print('y_test_raw shape:',y_test_raw.shape)"
      ],
      "execution_count": 9,
      "outputs": [
        {
          "output_type": "stream",
          "text": [
            "X_train_raw shape: (50000,)\n",
            "X_test_raw shape: (10000,)\n",
            "y_train_raw shape: (50000,)\n",
            "y_test_raw shape: (10000,)\n"
          ],
          "name": "stdout"
        }
      ]
    },
    {
      "metadata": {
        "id": "wmorrER5ajml",
        "colab_type": "code",
        "colab": {
          "autoexec": {
            "startup": false,
            "wait_interval": 0
          },
          "output_extras": [
            {
              "item_id": 1
            }
          ],
          "base_uri": "https://localhost:8080/",
          "height": 51
        },
        "outputId": "b81f2d40-f22d-40d3-c4b7-2dae632c94b7",
        "executionInfo": {
          "status": "ok",
          "timestamp": 1522075679005,
          "user_tz": -480,
          "elapsed": 696,
          "user": {
            "displayName": "Jacky Ho",
            "photoUrl": "https://lh3.googleusercontent.com/a/default-user=s128",
            "userId": "110853316533016897850"
          }
        }
      },
      "cell_type": "code",
      "source": [
        "print(X_train_raw[0])\n",
        "print(y_train_raw[0])"
      ],
      "execution_count": 10,
      "outputs": [
        {
          "output_type": "stream",
          "text": [
            "288+48 \n",
            "336 \n"
          ],
          "name": "stdout"
        }
      ]
    },
    {
      "metadata": {
        "id": "FAHx9s-9ajmv",
        "colab_type": "code",
        "colab": {
          "autoexec": {
            "startup": false,
            "wait_interval": 0
          },
          "output_extras": [
            {
              "item_id": 1
            }
          ],
          "base_uri": "https://localhost:8080/",
          "height": 51
        },
        "outputId": "f5127d85-90e8-465a-93a8-d4cf28449432",
        "executionInfo": {
          "status": "ok",
          "timestamp": 1522075683277,
          "user_tz": -480,
          "elapsed": 700,
          "user": {
            "displayName": "Jacky Ho",
            "photoUrl": "https://lh3.googleusercontent.com/a/default-user=s128",
            "userId": "110853316533016897850"
          }
        }
      },
      "cell_type": "code",
      "source": [
        "X_train_raw"
      ],
      "execution_count": 11,
      "outputs": [
        {
          "output_type": "execute_result",
          "data": {
            "text/plain": [
              "array(['288+48 ', '526+15 ', '9+964  ', ..., '70+587 ', '640+469',\n",
              "       '32+858 '], dtype='<U7')"
            ]
          },
          "metadata": {
            "tags": []
          },
          "execution_count": 11
        }
      ]
    },
    {
      "metadata": {
        "id": "RPIUIl7Oajm3",
        "colab_type": "code",
        "colab": {
          "autoexec": {
            "startup": false,
            "wait_interval": 0
          }
        }
      },
      "cell_type": "code",
      "source": [
        "chars = list('0123456789+ ') # encoded table \n",
        "char_to_int = dict((c,i) for i,c in enumerate(chars))"
      ],
      "execution_count": 0,
      "outputs": []
    },
    {
      "metadata": {
        "id": "-5UPdglYajm9",
        "colab_type": "code",
        "colab": {
          "autoexec": {
            "startup": false,
            "wait_interval": 0
          },
          "output_extras": [
            {
              "item_id": 1
            }
          ],
          "base_uri": "https://localhost:8080/",
          "height": 34
        },
        "outputId": "e81b0b26-c35a-4a1b-dc47-404f8be45b2d",
        "executionInfo": {
          "status": "ok",
          "timestamp": 1522075692892,
          "user_tz": -480,
          "elapsed": 679,
          "user": {
            "displayName": "Jacky Ho",
            "photoUrl": "https://lh3.googleusercontent.com/a/default-user=s128",
            "userId": "110853316533016897850"
          }
        }
      },
      "cell_type": "code",
      "source": [
        "print(char_to_int)"
      ],
      "execution_count": 14,
      "outputs": [
        {
          "output_type": "stream",
          "text": [
            "{'0': 0, '1': 1, '2': 2, '3': 3, '4': 4, '5': 5, '6': 6, '7': 7, '8': 8, '9': 9, '+': 10, ' ': 11}\n"
          ],
          "name": "stdout"
        }
      ]
    },
    {
      "metadata": {
        "id": "ANh6ibFbajnF",
        "colab_type": "code",
        "colab": {
          "autoexec": {
            "startup": false,
            "wait_interval": 0
          }
        }
      },
      "cell_type": "code",
      "source": [
        "X_train =[]\n",
        "y_train =[]\n",
        "X_test =[]\n",
        "y_test =[]\n",
        "for idx in range(X_train_raw.shape[0]):\n",
        "    X_train.append([char_to_int[char] for char in X_train_raw[idx]])\n",
        "    y_train.append([char_to_int[char] for char in y_train_raw[idx]])\n",
        "\n",
        "for idx in range(X_test_raw.shape[0]):\n",
        "    X_test.append([char_to_int[char] for char in X_test_raw[idx]])\n",
        "    y_test.append([char_to_int[char] for char in y_test_raw[idx]])"
      ],
      "execution_count": 0,
      "outputs": []
    },
    {
      "metadata": {
        "id": "uYOmp0OdajnK",
        "colab_type": "code",
        "colab": {
          "autoexec": {
            "startup": false,
            "wait_interval": 0
          }
        }
      },
      "cell_type": "code",
      "source": [
        "X_train=np.asarray(X_train)\n",
        "y_train=np.asarray(y_train)\n",
        "X_test=np.asarray(X_test)\n",
        "y_test=np.asarray(y_test) "
      ],
      "execution_count": 0,
      "outputs": []
    },
    {
      "metadata": {
        "id": "QTruh9Q_ajnX",
        "colab_type": "code",
        "colab": {
          "autoexec": {
            "startup": false,
            "wait_interval": 0
          },
          "output_extras": [
            {
              "item_id": 1
            }
          ],
          "base_uri": "https://localhost:8080/",
          "height": 85
        },
        "outputId": "b08a20cc-c8a3-427f-9c6a-dc412439c14a",
        "executionInfo": {
          "status": "ok",
          "timestamp": 1522075705163,
          "user_tz": -480,
          "elapsed": 671,
          "user": {
            "displayName": "Jacky Ho",
            "photoUrl": "https://lh3.googleusercontent.com/a/default-user=s128",
            "userId": "110853316533016897850"
          }
        }
      },
      "cell_type": "code",
      "source": [
        "print(X_train.shape)\n",
        "print(X_train[0])\n",
        "print(y_train.shape)\n",
        "print(y_train[0])"
      ],
      "execution_count": 17,
      "outputs": [
        {
          "output_type": "stream",
          "text": [
            "(50000, 7)\n",
            "[ 2  8  8 10  4  8 11]\n",
            "(50000, 4)\n",
            "[ 3  3  6 11]\n"
          ],
          "name": "stdout"
        }
      ]
    },
    {
      "metadata": {
        "id": "7qfYLILPajnn",
        "colab_type": "code",
        "colab": {
          "autoexec": {
            "startup": false,
            "wait_interval": 0
          }
        }
      },
      "cell_type": "code",
      "source": [
        "#Convert to one_hot encoding\n",
        "\n",
        "X_train=np_utils.to_categorical(X_train,len(chars))\n",
        "X_test=np_utils.to_categorical(X_test,len(chars))\n",
        "y_train=np_utils.to_categorical(y_train,len(chars))\n",
        "y_test=np_utils.to_categorical(y_test,len(chars))"
      ],
      "execution_count": 0,
      "outputs": []
    },
    {
      "metadata": {
        "id": "vfOEPY3Kajn1",
        "colab_type": "code",
        "colab": {
          "autoexec": {
            "startup": false,
            "wait_interval": 0
          },
          "output_extras": [
            {
              "item_id": 1
            }
          ],
          "base_uri": "https://localhost:8080/",
          "height": 51
        },
        "outputId": "1113ad91-95d6-49d3-97dc-4d6346389259",
        "executionInfo": {
          "status": "ok",
          "timestamp": 1522075709394,
          "user_tz": -480,
          "elapsed": 805,
          "user": {
            "displayName": "Jacky Ho",
            "photoUrl": "https://lh3.googleusercontent.com/a/default-user=s128",
            "userId": "110853316533016897850"
          }
        }
      },
      "cell_type": "code",
      "source": [
        "print(X_train.shape)\n",
        "print(X_test.shape)"
      ],
      "execution_count": 19,
      "outputs": [
        {
          "output_type": "stream",
          "text": [
            "(50000, 7, 12)\n",
            "(10000, 7, 12)\n"
          ],
          "name": "stdout"
        }
      ]
    },
    {
      "metadata": {
        "id": "g16Wd-uw1ysG",
        "colab_type": "code",
        "colab": {
          "autoexec": {
            "startup": false,
            "wait_interval": 0
          },
          "output_extras": [
            {
              "item_id": 1
            }
          ],
          "base_uri": "https://localhost:8080/",
          "height": 136
        },
        "outputId": "06afabc8-d2d4-44b8-d934-22345a33816e",
        "executionInfo": {
          "status": "ok",
          "timestamp": 1522076700356,
          "user_tz": -480,
          "elapsed": 712,
          "user": {
            "displayName": "Jacky Ho",
            "photoUrl": "https://lh3.googleusercontent.com/a/default-user=s128",
            "userId": "110853316533016897850"
          }
        }
      },
      "cell_type": "code",
      "source": [
        "print(X_train[0])"
      ],
      "execution_count": 37,
      "outputs": [
        {
          "output_type": "stream",
          "text": [
            "[[0. 0. 1. 0. 0. 0. 0. 0. 0. 0. 0. 0.]\n",
            " [0. 0. 0. 0. 0. 0. 0. 0. 1. 0. 0. 0.]\n",
            " [0. 0. 0. 0. 0. 0. 0. 0. 1. 0. 0. 0.]\n",
            " [0. 0. 0. 0. 0. 0. 0. 0. 0. 0. 1. 0.]\n",
            " [0. 0. 0. 0. 1. 0. 0. 0. 0. 0. 0. 0.]\n",
            " [0. 0. 0. 0. 0. 0. 0. 0. 1. 0. 0. 0.]\n",
            " [0. 0. 0. 0. 0. 0. 0. 0. 0. 0. 0. 1.]]\n"
          ],
          "name": "stdout"
        }
      ]
    },
    {
      "metadata": {
        "id": "y5JcVKtsajn_",
        "colab_type": "text"
      },
      "cell_type": "markdown",
      "source": [
        "# Construct the RNN \n",
        "\n",
        "In this section, construct the neural network using the RNN cells. There are many ways to do this. The following figure shows one proposed way to do this (you can propose one yourself that outperform it):\n",
        "\n",
        "<p align=\"center\">\n",
        "<img src=\"proposed_architecture.png\" width=\"600px\" >\n",
        "</p>\n",
        "\n",
        "This is similar to the **encoder-decoder RNN network**.  Assuming the input numbers are limited to 3 digits and all LSTM cells has 128 memory units.\n",
        "\n",
        "1. **Layer 1**: This implements the **encoder section** of the network. Use a layer of 7 128 LSTM cells. Do not enable return_sequence because we are interested to get only the output hidden state at the last time step only. The total timestep is equivalent to number of characters in the addition statement (7 in our case). The input at each time step is equivalent to the length of the one-hot vector representation (12 in our case). The output of the decoder is a vector of size `(?, 128)` where `?` is the batch. Note that the output is not a sequence.\n",
        "2. **Intermediate Layer**: The output of the encoder section are fed into the decoder section of the network. The encoder layer will output a 2D array (?, 128) but the decoder layer has a timestep of 4 and expects a shape of (?, timesteps, 128). We can address this problem by using `RepeatVector()` between the encoder and encoder to ensure that the output of the encoder is repeated 4 times to match the output of the output sequence. After we add `RepeatVector()`, the input to the decoder would be a sequence of size (?, 4, 128).\n",
        "3. **Layer 2**: This implements the **decoder section** of the network. Use a layer of 4 LSTM cells. Here, you must enable return_sequence because we are interested to get the output hidden states at all time step of the decoding process. The total timestep is equivalent to the maximum number of characters in the expected output (4 in our case). The input at each time step is euivalent to the length of the one-hot vector representatino (12 in our casE). The output at decoder is a vector of size `(?, 4, 128)` which is a sequence.\n",
        "4. **Layer 3**: This output of the LSTM cells should be fed into a dense cell. During each timestep, the dense cell takes in a 128-D vector and transform it into a 12-D vector. The size of the output is the same as the length of the one-hot encoding of each number. \n",
        "5. **Intermediate layer**: Lastly each of the output of the weighted input from layer 3 are subjected to a \"Softmax\" activation function."
      ]
    },
    {
      "metadata": {
        "id": "jsQURx-9ajoD",
        "colab_type": "code",
        "colab": {
          "autoexec": {
            "startup": false,
            "wait_interval": 0
          },
          "output_extras": [
            {
              "item_id": 1
            }
          ],
          "base_uri": "https://localhost:8080/",
          "height": 306
        },
        "outputId": "7a8270f0-2359-46e9-ac16-1286d9152ace",
        "executionInfo": {
          "status": "ok",
          "timestamp": 1522086189092,
          "user_tz": -480,
          "elapsed": 979,
          "user": {
            "displayName": "Jacky Ho",
            "photoUrl": "https://lh3.googleusercontent.com/a/default-user=s128",
            "userId": "110853316533016897850"
          }
        }
      },
      "cell_type": "code",
      "source": [
        "model = Sequential()\n",
        "model.add(LSTM(128,return_sequences=False,input_shape=(7,12)))\n",
        "model.add(RepeatVector(4))\n",
        "model.add(LSTM(128,return_sequences=True))\n",
        "model.add(TimeDistributed(Dense(12)))\n",
        "model.add(Activation('softmax'))\n",
        "model.summary()"
      ],
      "execution_count": 157,
      "outputs": [
        {
          "output_type": "stream",
          "text": [
            "_________________________________________________________________\n",
            "Layer (type)                 Output Shape              Param #   \n",
            "=================================================================\n",
            "lstm_11 (LSTM)               (None, 128)               72192     \n",
            "_________________________________________________________________\n",
            "repeat_vector_9 (RepeatVecto (None, 4, 128)            0         \n",
            "_________________________________________________________________\n",
            "lstm_12 (LSTM)               (None, 4, 128)            131584    \n",
            "_________________________________________________________________\n",
            "time_distributed_9 (TimeDist (None, 4, 12)             1548      \n",
            "_________________________________________________________________\n",
            "activation_9 (Activation)    (None, 4, 12)             0         \n",
            "=================================================================\n",
            "Total params: 205,324\n",
            "Trainable params: 205,324\n",
            "Non-trainable params: 0\n",
            "_________________________________________________________________\n"
          ],
          "name": "stdout"
        }
      ]
    },
    {
      "metadata": {
        "id": "RN3tyCbIajoM",
        "colab_type": "text"
      },
      "cell_type": "markdown",
      "source": [
        "# Training\n",
        "\n",
        "Perform your training here. You may use a batch_size of 128. You may need to run up to 50 epochs for good results. "
      ]
    },
    {
      "metadata": {
        "id": "_QOjnJ-BajoN",
        "colab_type": "code",
        "colab": {
          "autoexec": {
            "startup": false,
            "wait_interval": 0
          }
        }
      },
      "cell_type": "code",
      "source": [
        "# Your code here\n",
        "model.compile(optimizer=Adam(lr=0.001,decay=1e-6),loss='categorical_crossentropy',metrics=['accuracy'])"
      ],
      "execution_count": 0,
      "outputs": []
    },
    {
      "metadata": {
        "id": "cCQgnGLxajoT",
        "colab_type": "code",
        "colab": {
          "autoexec": {
            "startup": false,
            "wait_interval": 0
          },
          "output_extras": [
            {
              "item_id": 83
            },
            {
              "item_id": 167
            },
            {
              "item_id": 238
            },
            {
              "item_id": 308
            },
            {
              "item_id": 377
            },
            {
              "item_id": 445
            },
            {
              "item_id": 516
            },
            {
              "item_id": 586
            },
            {
              "item_id": 655
            },
            {
              "item_id": 719
            },
            {
              "item_id": 786
            },
            {
              "item_id": 852
            },
            {
              "item_id": 922
            },
            {
              "item_id": 991
            },
            {
              "item_id": 1060
            },
            {
              "item_id": 1128
            },
            {
              "item_id": 1197
            },
            {
              "item_id": 1265
            },
            {
              "item_id": 1333
            },
            {
              "item_id": 1399
            },
            {
              "item_id": 1465
            },
            {
              "item_id": 1529
            },
            {
              "item_id": 1592
            },
            {
              "item_id": 1651
            },
            {
              "item_id": 1687
            }
          ],
          "base_uri": "https://localhost:8080/",
          "height": 1754
        },
        "outputId": "115414ca-7d38-4cf4-b19f-c8ad30ce4e47",
        "executionInfo": {
          "status": "ok",
          "timestamp": 1522086706179,
          "user_tz": -480,
          "elapsed": 511967,
          "user": {
            "displayName": "Jacky Ho",
            "photoUrl": "https://lh3.googleusercontent.com/a/default-user=s128",
            "userId": "110853316533016897850"
          }
        }
      },
      "cell_type": "code",
      "source": [
        "history=model.fit(X_train,y_train,validation_split=0.1,batch_size=128,epochs=50,verbose=1)"
      ],
      "execution_count": 159,
      "outputs": [
        {
          "output_type": "stream",
          "text": [
            "Train on 45000 samples, validate on 5000 samples\n",
            "Epoch 1/50\n",
            "45000/45000 [==============================] - 12s 278us/step - loss: 1.9034 - acc: 0.3179 - val_loss: 1.8241 - val_acc: 0.3365\n",
            "Epoch 2/50\n",
            "45000/45000 [==============================] - 11s 235us/step - loss: 1.7582 - acc: 0.3507 - val_loss: 1.6822 - val_acc: 0.3725\n",
            "Epoch 3/50\n",
            "14720/45000 [========>.....................] - ETA: 6s - loss: 1.6459 - acc: 0.3816"
          ],
          "name": "stdout"
        },
        {
          "output_type": "stream",
          "text": [
            "45000/45000 [==============================] - 10s 232us/step - loss: 1.5943 - acc: 0.3990 - val_loss: 1.5139 - val_acc: 0.4274\n",
            "Epoch 4/50\n",
            "45000/45000 [==============================] - 10s 229us/step - loss: 1.4513 - acc: 0.4542 - val_loss: 1.3907 - val_acc: 0.4757\n",
            "Epoch 5/50\n",
            "35712/45000 [======================>.......] - ETA: 2s - loss: 1.3382 - acc: 0.4980"
          ],
          "name": "stdout"
        },
        {
          "output_type": "stream",
          "text": [
            "45000/45000 [==============================] - 10s 231us/step - loss: 1.3268 - acc: 0.5029 - val_loss: 1.2786 - val_acc: 0.5205\n",
            "Epoch 6/50\n",
            "45000/45000 [==============================] - 10s 226us/step - loss: 1.2216 - acc: 0.5428 - val_loss: 1.1708 - val_acc: 0.5620\n",
            "Epoch 7/50\n",
            "40576/45000 [==========================>...] - ETA: 0s - loss: 1.1334 - acc: 0.5734"
          ],
          "name": "stdout"
        },
        {
          "output_type": "stream",
          "text": [
            "45000/45000 [==============================] - 10s 231us/step - loss: 1.1290 - acc: 0.5753 - val_loss: 1.0976 - val_acc: 0.5849\n",
            "Epoch 8/50\n",
            "45000/45000 [==============================] - 11s 235us/step - loss: 1.0488 - acc: 0.6058 - val_loss: 1.0151 - val_acc: 0.6229\n",
            "Epoch 9/50\n",
            "41600/45000 [==========================>...] - ETA: 0s - loss: 0.9800 - acc: 0.6330"
          ],
          "name": "stdout"
        },
        {
          "output_type": "stream",
          "text": [
            "45000/45000 [==============================] - 10s 233us/step - loss: 0.9779 - acc: 0.6334 - val_loss: 0.9471 - val_acc: 0.6459\n",
            "Epoch 10/50\n",
            "45000/45000 [==============================] - 10s 231us/step - loss: 0.9073 - acc: 0.6603 - val_loss: 0.8781 - val_acc: 0.6667\n",
            "Epoch 11/50\n",
            "41600/45000 [==========================>...] - ETA: 0s - loss: 0.8304 - acc: 0.6885"
          ],
          "name": "stdout"
        },
        {
          "output_type": "stream",
          "text": [
            "45000/45000 [==============================] - 10s 229us/step - loss: 0.8285 - acc: 0.6889 - val_loss: 0.8099 - val_acc: 0.6866\n",
            "Epoch 12/50\n",
            "45000/45000 [==============================] - 10s 222us/step - loss: 0.7286 - acc: 0.7242 - val_loss: 0.6898 - val_acc: 0.7371\n",
            "Epoch 13/50\n",
            "41600/45000 [==========================>...] - ETA: 0s - loss: 0.6083 - acc: 0.7758"
          ],
          "name": "stdout"
        },
        {
          "output_type": "stream",
          "text": [
            "45000/45000 [==============================] - 10s 229us/step - loss: 0.6038 - acc: 0.7778 - val_loss: 0.5556 - val_acc: 0.7950\n",
            "Epoch 14/50\n",
            "45000/45000 [==============================] - 11s 237us/step - loss: 0.4925 - acc: 0.8280 - val_loss: 0.4565 - val_acc: 0.8407\n",
            "Epoch 15/50\n",
            "41600/45000 [==========================>...] - ETA: 0s - loss: 0.4091 - acc: 0.8657"
          ],
          "name": "stdout"
        },
        {
          "output_type": "stream",
          "text": [
            "45000/45000 [==============================] - 11s 235us/step - loss: 0.4061 - acc: 0.8672 - val_loss: 0.3915 - val_acc: 0.8721\n",
            "Epoch 16/50\n",
            "45000/45000 [==============================] - 11s 235us/step - loss: 0.3329 - acc: 0.9004 - val_loss: 0.3120 - val_acc: 0.9031\n",
            "Epoch 17/50\n",
            "41600/45000 [==========================>...] - ETA: 0s - loss: 0.2750 - acc: 0.9233"
          ],
          "name": "stdout"
        },
        {
          "output_type": "stream",
          "text": [
            "45000/45000 [==============================] - 10s 231us/step - loss: 0.2741 - acc: 0.9235 - val_loss: 0.2718 - val_acc: 0.9181\n",
            "Epoch 18/50\n",
            "45000/45000 [==============================] - 10s 232us/step - loss: 0.2298 - acc: 0.9396 - val_loss: 0.2334 - val_acc: 0.9336\n",
            "Epoch 19/50\n",
            "41600/45000 [==========================>...] - ETA: 0s - loss: 0.1934 - acc: 0.9507"
          ],
          "name": "stdout"
        },
        {
          "output_type": "stream",
          "text": [
            "45000/45000 [==============================] - 10s 225us/step - loss: 0.1926 - acc: 0.9508 - val_loss: 0.1927 - val_acc: 0.9467\n",
            "Epoch 20/50\n",
            "45000/45000 [==============================] - 10s 218us/step - loss: 0.1577 - acc: 0.9626 - val_loss: 0.1863 - val_acc: 0.9437\n",
            "Epoch 21/50\n",
            "41728/45000 [==========================>...] - ETA: 0s - loss: 0.1366 - acc: 0.9674"
          ],
          "name": "stdout"
        },
        {
          "output_type": "stream",
          "text": [
            "45000/45000 [==============================] - 10s 217us/step - loss: 0.1362 - acc: 0.9675 - val_loss: 0.1456 - val_acc: 0.9592\n",
            "Epoch 22/50\n",
            "45000/45000 [==============================] - 10s 223us/step - loss: 0.1196 - acc: 0.9715 - val_loss: 0.1642 - val_acc: 0.9482\n",
            "Epoch 23/50\n",
            "41600/45000 [==========================>...] - ETA: 0s - loss: 0.1095 - acc: 0.9736"
          ],
          "name": "stdout"
        },
        {
          "output_type": "stream",
          "text": [
            "45000/45000 [==============================] - 10s 225us/step - loss: 0.1082 - acc: 0.9741 - val_loss: 0.1164 - val_acc: 0.9684\n",
            "Epoch 24/50\n",
            "45000/45000 [==============================] - 10s 219us/step - loss: 0.0898 - acc: 0.9792 - val_loss: 0.1067 - val_acc: 0.9702\n",
            "Epoch 25/50\n",
            "41600/45000 [==========================>...] - ETA: 0s - loss: 0.0846 - acc: 0.9797"
          ],
          "name": "stdout"
        },
        {
          "output_type": "stream",
          "text": [
            "45000/45000 [==============================] - 10s 227us/step - loss: 0.0837 - acc: 0.9801 - val_loss: 0.0905 - val_acc: 0.9748\n",
            "Epoch 26/50\n",
            "45000/45000 [==============================] - 10s 230us/step - loss: 0.0741 - acc: 0.9828 - val_loss: 0.0830 - val_acc: 0.9769\n",
            "Epoch 27/50\n",
            "41600/45000 [==========================>...] - ETA: 0s - loss: 0.0729 - acc: 0.9819"
          ],
          "name": "stdout"
        },
        {
          "output_type": "stream",
          "text": [
            "45000/45000 [==============================] - 10s 226us/step - loss: 0.0716 - acc: 0.9823 - val_loss: 0.0701 - val_acc: 0.9819\n",
            "Epoch 28/50\n",
            "45000/45000 [==============================] - 10s 229us/step - loss: 0.0576 - acc: 0.9871 - val_loss: 0.0671 - val_acc: 0.9821\n",
            "Epoch 29/50\n",
            "41600/45000 [==========================>...] - ETA: 0s - loss: 0.0483 - acc: 0.9899"
          ],
          "name": "stdout"
        },
        {
          "output_type": "stream",
          "text": [
            "45000/45000 [==============================] - 10s 229us/step - loss: 0.0476 - acc: 0.9902 - val_loss: 0.0641 - val_acc: 0.9816\n",
            "Epoch 30/50\n",
            "45000/45000 [==============================] - 10s 231us/step - loss: 0.0720 - acc: 0.9803 - val_loss: 0.0946 - val_acc: 0.9675\n",
            "Epoch 31/50\n",
            "41600/45000 [==========================>...] - ETA: 0s - loss: 0.0388 - acc: 0.9922"
          ],
          "name": "stdout"
        },
        {
          "output_type": "stream",
          "text": [
            "45000/45000 [==============================] - 10s 219us/step - loss: 0.0382 - acc: 0.9924 - val_loss: 0.0517 - val_acc: 0.9860\n",
            "Epoch 32/50\n",
            "45000/45000 [==============================] - 10s 220us/step - loss: 0.0315 - acc: 0.9948 - val_loss: 0.0570 - val_acc: 0.9822\n",
            "Epoch 33/50\n",
            "41600/45000 [==========================>...] - ETA: 0s - loss: 0.0344 - acc: 0.9926"
          ],
          "name": "stdout"
        },
        {
          "output_type": "stream",
          "text": [
            "45000/45000 [==============================] - 10s 227us/step - loss: 0.0355 - acc: 0.9921 - val_loss: 0.0660 - val_acc: 0.9788\n",
            "Epoch 34/50\n",
            "45000/45000 [==============================] - 10s 231us/step - loss: 0.0573 - acc: 0.9834 - val_loss: 0.0456 - val_acc: 0.9873\n",
            "Epoch 35/50\n",
            "41600/45000 [==========================>...] - ETA: 0s - loss: 0.0228 - acc: 0.9964"
          ],
          "name": "stdout"
        },
        {
          "output_type": "stream",
          "text": [
            "45000/45000 [==============================] - 10s 227us/step - loss: 0.0230 - acc: 0.9963 - val_loss: 0.0403 - val_acc: 0.9887\n",
            "Epoch 36/50\n",
            "45000/45000 [==============================] - 10s 224us/step - loss: 0.0397 - acc: 0.9896 - val_loss: 0.1144 - val_acc: 0.9577\n",
            "Epoch 37/50\n",
            "41088/45000 [==========================>...] - ETA: 0s - loss: 0.0279 - acc: 0.9941"
          ],
          "name": "stdout"
        },
        {
          "output_type": "stream",
          "text": [
            "45000/45000 [==============================] - 10s 226us/step - loss: 0.0271 - acc: 0.9943 - val_loss: 0.0337 - val_acc: 0.9902\n",
            "Epoch 38/50\n",
            "45000/45000 [==============================] - 11s 233us/step - loss: 0.0156 - acc: 0.9980 - val_loss: 0.0353 - val_acc: 0.9895\n",
            "Epoch 39/50\n",
            "41344/45000 [==========================>...] - ETA: 0s - loss: 0.0207 - acc: 0.9957"
          ],
          "name": "stdout"
        },
        {
          "output_type": "stream",
          "text": [
            "45000/45000 [==============================] - 10s 222us/step - loss: 0.0239 - acc: 0.9945 - val_loss: 0.0857 - val_acc: 0.9703\n",
            "Epoch 40/50\n",
            "45000/45000 [==============================] - 10s 220us/step - loss: 0.0488 - acc: 0.9851 - val_loss: 0.0334 - val_acc: 0.9901\n",
            "Epoch 41/50\n",
            "41600/45000 [==========================>...] - ETA: 0s - loss: 0.0134 - acc: 0.9984"
          ],
          "name": "stdout"
        },
        {
          "output_type": "stream",
          "text": [
            "45000/45000 [==============================] - 10s 221us/step - loss: 0.0133 - acc: 0.9984 - val_loss: 0.0265 - val_acc: 0.9922\n",
            "Epoch 42/50\n",
            "45000/45000 [==============================] - 10s 219us/step - loss: 0.0108 - acc: 0.9988 - val_loss: 0.0330 - val_acc: 0.9895\n",
            "Epoch 43/50\n",
            "41728/45000 [==========================>...] - ETA: 0s - loss: 0.0413 - acc: 0.9878"
          ],
          "name": "stdout"
        },
        {
          "output_type": "stream",
          "text": [
            "45000/45000 [==============================] - 10s 217us/step - loss: 0.0442 - acc: 0.9868 - val_loss: 0.1216 - val_acc: 0.9552\n",
            "Epoch 44/50\n",
            "45000/45000 [==============================] - 10s 217us/step - loss: 0.0199 - acc: 0.9954 - val_loss: 0.0280 - val_acc: 0.9915\n",
            "Epoch 45/50\n",
            "41600/45000 [==========================>...] - ETA: 0s - loss: 0.0100 - acc: 0.9987"
          ],
          "name": "stdout"
        },
        {
          "output_type": "stream",
          "text": [
            "45000/45000 [==============================] - 10s 216us/step - loss: 0.0099 - acc: 0.9987 - val_loss: 0.0238 - val_acc: 0.9932\n",
            "Epoch 46/50\n",
            "45000/45000 [==============================] - 10s 217us/step - loss: 0.0080 - acc: 0.9993 - val_loss: 0.0218 - val_acc: 0.9934\n",
            "Epoch 47/50\n",
            "41728/45000 [==========================>...] - ETA: 0s - loss: 0.0495 - acc: 0.9850"
          ],
          "name": "stdout"
        },
        {
          "output_type": "stream",
          "text": [
            "45000/45000 [==============================] - 10s 216us/step - loss: 0.0501 - acc: 0.9847 - val_loss: 0.0854 - val_acc: 0.9709\n",
            "Epoch 48/50\n",
            "45000/45000 [==============================] - 10s 215us/step - loss: 0.0146 - acc: 0.9970 - val_loss: 0.0221 - val_acc: 0.9933\n",
            "Epoch 49/50\n",
            "41984/45000 [==========================>...] - ETA: 0s - loss: 0.0066 - acc: 0.9995"
          ],
          "name": "stdout"
        },
        {
          "output_type": "stream",
          "text": [
            "45000/45000 [==============================] - 10s 214us/step - loss: 0.0066 - acc: 0.9995 - val_loss: 0.0228 - val_acc: 0.9937\n",
            "Epoch 50/50\n",
            "45000/45000 [==============================] - 10s 216us/step - loss: 0.0062 - acc: 0.9995 - val_loss: 0.0202 - val_acc: 0.9938\n"
          ],
          "name": "stdout"
        }
      ]
    },
    {
      "metadata": {
        "id": "CIbMOQ0cajoY",
        "colab_type": "code",
        "colab": {
          "autoexec": {
            "startup": false,
            "wait_interval": 0
          }
        }
      },
      "cell_type": "code",
      "source": [
        "#Save model used and trained weights\n",
        "\n",
        "model.save_weights('model_weights_distibuted_time2.h5')\n",
        "model.save('model_distributed_time2.h5')"
      ],
      "execution_count": 0,
      "outputs": []
    },
    {
      "metadata": {
        "id": "KeiUXIeiMtGN",
        "colab_type": "code",
        "colab": {
          "autoexec": {
            "startup": false,
            "wait_interval": 0
          },
          "output_extras": [
            {
              "item_id": 4
            }
          ],
          "base_uri": "https://localhost:8080/",
          "height": 119
        },
        "outputId": "6bb992fe-5ae5-4d51-f1cc-8ee3501bc040",
        "executionInfo": {
          "status": "ok",
          "timestamp": 1522084840943,
          "user_tz": -480,
          "elapsed": 6008,
          "user": {
            "displayName": "Jacky Ho",
            "photoUrl": "https://lh3.googleusercontent.com/a/default-user=s128",
            "userId": "110853316533016897850"
          }
        }
      },
      "cell_type": "code",
      "source": [
        "!gsutil cp model_weights_distibuted_time2.h5 gs://myharddisk-1\n",
        "!gsutil cp model_distributed_time2.h5 gs://myharddisk-1"
      ],
      "execution_count": 145,
      "outputs": [
        {
          "output_type": "stream",
          "text": [
            "Copying file://model_weights_distibuted_time2.h5 [Content-Type=application/octet-stream]...\n",
            "-\n",
            "Operation completed over 1 objects/818.1 KiB.                                    \n",
            "Copying file://model_distributed_time2.h5 [Content-Type=application/octet-stream]...\n",
            "-\n",
            "Operation completed over 1 objects/2.4 MiB.                                      \n"
          ],
          "name": "stdout"
        }
      ]
    },
    {
      "metadata": {
        "id": "ClJAZYHzajod",
        "colab_type": "text"
      },
      "cell_type": "markdown",
      "source": [
        "---\n",
        "# Evaluation\n",
        "\n",
        "Write your code to evaluate your performance on the test set."
      ]
    },
    {
      "metadata": {
        "id": "74uWLlzUajoe",
        "colab_type": "code",
        "colab": {
          "autoexec": {
            "startup": false,
            "wait_interval": 0
          },
          "output_extras": [
            {
              "item_id": 9
            }
          ],
          "base_uri": "https://localhost:8080/",
          "height": 68
        },
        "outputId": "2513cbc0-bb61-45f3-b11d-a1aa9e25be2f",
        "executionInfo": {
          "status": "ok",
          "timestamp": 1522086716921,
          "user_tz": -480,
          "elapsed": 3034,
          "user": {
            "displayName": "Jacky Ho",
            "photoUrl": "https://lh3.googleusercontent.com/a/default-user=s128",
            "userId": "110853316533016897850"
          }
        }
      },
      "cell_type": "code",
      "source": [
        "# Your code here\n",
        "loss,accuracy = model.evaluate(X_test,y_test)\n",
        "print('loss on test_X:',loss)\n",
        "print('Accuracy on test_X:',accuracy)"
      ],
      "execution_count": 160,
      "outputs": [
        {
          "output_type": "stream",
          "text": [
            "10000/10000 [==============================] - 3s 254us/step\n",
            "loss on test_X: 0.01883812543861568\n",
            "Accuracy on test_X: 0.994525\n"
          ],
          "name": "stdout"
        }
      ]
    },
    {
      "metadata": {
        "id": "zwgySJxZ0Bji",
        "colab_type": "code",
        "colab": {
          "autoexec": {
            "startup": false,
            "wait_interval": 0
          },
          "output_extras": [
            {
              "item_id": 1
            }
          ],
          "base_uri": "https://localhost:8080/",
          "height": 34
        },
        "outputId": "8627309f-fa1c-49fb-f844-d326b981e795",
        "executionInfo": {
          "status": "ok",
          "timestamp": 1522079008003,
          "user_tz": -480,
          "elapsed": 671,
          "user": {
            "displayName": "Jacky Ho",
            "photoUrl": "https://lh3.googleusercontent.com/a/default-user=s128",
            "userId": "110853316533016897850"
          }
        }
      },
      "cell_type": "code",
      "source": [
        "def char_to_categorical(inputs):\n",
        "  return np_utils.to_categorical([char_to_int[char] for char in inputs],len(chars)).reshape([1,7,12])\n",
        "\n",
        "answerMaps = {0:0 , 1:1 ,2:2, 3:3, 4:4 ,5:5,6:6,7:7,8:8,9:9,10:'+',11:' '}\n",
        "inputs = '15+15  '\n",
        "myinput = char_to_categorical(inputs)\n",
        "print(([answerMaps[idx] for idx in model.predict(myinput).argmax(axis=2).flatten()])[0:3])"
      ],
      "execution_count": 103,
      "outputs": [
        {
          "output_type": "stream",
          "text": [
            "[2, 0, ' ']\n"
          ],
          "name": "stdout"
        }
      ]
    },
    {
      "metadata": {
        "id": "Xk1D6zMK7AFQ",
        "colab_type": "code",
        "colab": {
          "autoexec": {
            "startup": false,
            "wait_interval": 0
          }
        }
      },
      "cell_type": "code",
      "source": [
        "def plotloss(history):\n",
        "  import matplotlib.pyplot as plt\n",
        "  plt.figure(1)\n",
        "  plt.subplot(211)\n",
        "  plt.xlabel('epochs')\n",
        "  plt.ylabel('accuracy')\n",
        "  plt.plot(history.history['acc'],'r--',label='Training Accuracy')\n",
        "  plt.plot(history.history['val_acc'],'b--',label='Validation Accuracy')\n",
        "  plt.subplot(212)\n",
        "  plt.plot(history.history['loss'],'r--',label='Training Loss')\n",
        "  plt.plot(history.history['val_loss'],'b--',label='Validation Loss')\n",
        "  plt.xlabel('epochs')\n",
        "  plt.ylabel('loss')\n",
        "  plt.legend()\n",
        "  plt.show()"
      ],
      "execution_count": 0,
      "outputs": []
    },
    {
      "metadata": {
        "id": "JH8ByQphcNtp",
        "colab_type": "code",
        "colab": {
          "autoexec": {
            "startup": false,
            "wait_interval": 0
          },
          "output_extras": [
            {
              "item_id": 1
            }
          ],
          "base_uri": "https://localhost:8080/",
          "height": 361
        },
        "outputId": "238c87f8-821d-4295-ee95-34d515e8a5f7",
        "executionInfo": {
          "status": "ok",
          "timestamp": 1522086786925,
          "user_tz": -480,
          "elapsed": 749,
          "user": {
            "displayName": "Jacky Ho",
            "photoUrl": "https://lh3.googleusercontent.com/a/default-user=s128",
            "userId": "110853316533016897850"
          }
        }
      },
      "cell_type": "code",
      "source": [
        "plotloss(history)"
      ],
      "execution_count": 162,
      "outputs": [
        {
          "output_type": "display_data",
          "data": {
            "image/png": "[encoded data removed]",
            "text/plain": [
              "<matplotlib.figure.Figure at 0x7f04f7b06208>"
            ]
          },
          "metadata": {
            "tags": []
          }
        }
      ]
    },
    {
      "metadata": {
        "id": "EmoJCg-Hajol",
        "colab_type": "text"
      },
      "cell_type": "markdown",
      "source": [
        "# Load saved model"
      ]
    },
    {
      "metadata": {
        "id": "jz0MLIJFajom",
        "colab_type": "code",
        "colab": {
          "autoexec": {
            "startup": false,
            "wait_interval": 0
          }
        }
      },
      "cell_type": "code",
      "source": [
        "loaded_model = load_model('model_distributed_time.h5')\n",
        "loaded_model.load_weights('model_weights_distibuted_time.h5')"
      ],
      "execution_count": 0,
      "outputs": []
    },
    {
      "metadata": {
        "id": "BG2GMvQcajor",
        "colab_type": "code",
        "colab": {
          "autoexec": {
            "startup": false,
            "wait_interval": 0
          },
          "output_extras": [
            {}
          ]
        },
        "outputId": "8a9bd9f8-cf53-4662-d208-3b3dce8c49c1"
      },
      "cell_type": "code",
      "source": [
        "print(X_test[0])"
      ],
      "execution_count": 0,
      "outputs": [
        {
          "output_type": "error",
          "ename": "NameError",
          "evalue": "name 'X_test' is not defined",
          "traceback": [
            "\u001b[0;31m------------------------------------------------------------\u001b[0m",
            "\u001b[0;31mNameError\u001b[0m                  Traceback (most recent call last)",
            "\u001b[0;32m<ipython-input-8-2adf0f369c71>\u001b[0m in \u001b[0;36m<module>\u001b[0;34m()\u001b[0m\n\u001b[0;32m----> 1\u001b[0;31m \u001b[0mprint\u001b[0m\u001b[0;34m(\u001b[0m\u001b[0mX_test\u001b[0m\u001b[0;34m[\u001b[0m\u001b[0;36m0\u001b[0m\u001b[0;34m]\u001b[0m\u001b[0;34m)\u001b[0m\u001b[0;34m\u001b[0m\u001b[0m\n\u001b[0m",
            "\u001b[0;31mNameError\u001b[0m: name 'X_test' is not defined"
          ]
        }
      ]
    },
    {
      "metadata": {
        "id": "38zrDIy-ajo2",
        "colab_type": "code",
        "colab": {
          "autoexec": {
            "startup": false,
            "wait_interval": 0
          },
          "output_extras": [
            {},
            {}
          ]
        },
        "outputId": "f6594768-d7bc-41c3-f599-2128a3cc51ea"
      },
      "cell_type": "code",
      "source": [
        "loaded_model.evaluate(X_test,y_test)"
      ],
      "execution_count": 0,
      "outputs": [
        {
          "output_type": "stream",
          "text": [
            "10000/10000 [==============================] - 6s 562us/step\n"
          ],
          "name": "stdout"
        },
        {
          "output_type": "execute_result",
          "data": {
            "text/plain": [
              "[0.016943555587530135, 0.99532500000000002]"
            ]
          },
          "metadata": {
            "tags": []
          },
          "execution_count": 22
        }
      ]
    },
    {
      "metadata": {
        "id": "OBNAPOdcVVI1",
        "colab_type": "text"
      },
      "cell_type": "markdown",
      "source": [
        "# GRU"
      ]
    },
    {
      "metadata": {
        "id": "L6sGkk9tajo9",
        "colab_type": "code",
        "colab": {
          "autoexec": {
            "startup": false,
            "wait_interval": 0
          },
          "output_extras": [
            {
              "item_id": 1
            }
          ],
          "base_uri": "https://localhost:8080/",
          "height": 306
        },
        "outputId": "566dd0a2-c8f1-4df3-f99b-3a165e171ba8",
        "executionInfo": {
          "status": "ok",
          "timestamp": 1522085882991,
          "user_tz": -480,
          "elapsed": 960,
          "user": {
            "displayName": "Jacky Ho",
            "photoUrl": "https://lh3.googleusercontent.com/a/default-user=s128",
            "userId": "110853316533016897850"
          }
        }
      },
      "cell_type": "code",
      "source": [
        "from keras.layers import GRU\n",
        "modelGRU = Sequential()\n",
        "modelGRU.add(GRU(128,return_sequences=False,input_shape=(7,12)))\n",
        "modelGRU.add(RepeatVector(4))\n",
        "modelGRU.add(GRU(128,return_sequences=True))\n",
        "modelGRU.add(TimeDistributed(Dense(12)))\n",
        "modelGRU.add(Activation('softmax'))\n",
        "modelGRU.summary()"
      ],
      "execution_count": 154,
      "outputs": [
        {
          "output_type": "stream",
          "text": [
            "_________________________________________________________________\n",
            "Layer (type)                 Output Shape              Param #   \n",
            "=================================================================\n",
            "gru_5 (GRU)                  (None, 128)               54144     \n",
            "_________________________________________________________________\n",
            "repeat_vector_8 (RepeatVecto (None, 4, 128)            0         \n",
            "_________________________________________________________________\n",
            "gru_6 (GRU)                  (None, 4, 128)            98688     \n",
            "_________________________________________________________________\n",
            "time_distributed_8 (TimeDist (None, 4, 12)             1548      \n",
            "_________________________________________________________________\n",
            "activation_8 (Activation)    (None, 4, 12)             0         \n",
            "=================================================================\n",
            "Total params: 154,380\n",
            "Trainable params: 154,380\n",
            "Non-trainable params: 0\n",
            "_________________________________________________________________\n"
          ],
          "name": "stdout"
        }
      ]
    },
    {
      "metadata": {
        "id": "HW-_84IgVB8p",
        "colab_type": "code",
        "colab": {
          "autoexec": {
            "startup": false,
            "wait_interval": 0
          },
          "output_extras": [
            {
              "item_id": 82
            },
            {
              "item_id": 155
            },
            {
              "item_id": 235
            },
            {
              "item_id": 313
            },
            {
              "item_id": 396
            },
            {
              "item_id": 478
            },
            {
              "item_id": 562
            },
            {
              "item_id": 646
            },
            {
              "item_id": 730
            },
            {
              "item_id": 812
            },
            {
              "item_id": 895
            },
            {
              "item_id": 977
            },
            {
              "item_id": 1060
            },
            {
              "item_id": 1138
            },
            {
              "item_id": 1223
            },
            {
              "item_id": 1304
            },
            {
              "item_id": 1380
            }
          ],
          "base_uri": "https://localhost:8080/",
          "height": 1754
        },
        "outputId": "3e94cadb-a866-404a-8120-c236b66fbf3f",
        "executionInfo": {
          "status": "ok",
          "timestamp": 1522085448511,
          "user_tz": -480,
          "elapsed": 427516,
          "user": {
            "displayName": "Jacky Ho",
            "photoUrl": "https://lh3.googleusercontent.com/a/default-user=s128",
            "userId": "110853316533016897850"
          }
        }
      },
      "cell_type": "code",
      "source": [
        "modelGRU.compile(optimizer=Adam(lr=0.001,decay=1e-6),loss='categorical_crossentropy',metrics=['accuracy'])\n",
        "historyGRU=modelGRU.fit(X_train,y_train,validation_split=0.1,batch_size=128,epochs=50,verbose=1)"
      ],
      "execution_count": 148,
      "outputs": [
        {
          "output_type": "stream",
          "text": [
            "Train on 45000 samples, validate on 5000 samples\n",
            "Epoch 1/50\n",
            "45000/45000 [==============================] - 10s 221us/step - loss: 1.8671 - acc: 0.3247 - val_loss: 1.7501 - val_acc: 0.3542\n",
            "Epoch 2/50\n",
            "45000/45000 [==============================] - 9s 191us/step - loss: 1.6355 - acc: 0.3846 - val_loss: 1.5368 - val_acc: 0.4107\n",
            "Epoch 3/50\n",
            "39040/45000 [=========================>....] - ETA: 1s - loss: 1.4395 - acc: 0.4604"
          ],
          "name": "stdout"
        },
        {
          "output_type": "stream",
          "text": [
            "45000/45000 [==============================] - 9s 190us/step - loss: 1.4281 - acc: 0.4653 - val_loss: 1.3573 - val_acc: 0.4925\n",
            "Epoch 4/50\n",
            "45000/45000 [==============================] - 9s 189us/step - loss: 1.3063 - acc: 0.5127 - val_loss: 1.2685 - val_acc: 0.5293\n",
            "Epoch 5/50\n",
            "45000/45000 [==============================] - 8s 188us/step - loss: 1.2439 - acc: 0.5338 - val_loss: 1.2217 - val_acc: 0.5400\n",
            "Epoch 6/50\n",
            "19584/45000 [============>.................] - ETA: 4s - loss: 1.2083 - acc: 0.5460"
          ],
          "name": "stdout"
        },
        {
          "output_type": "stream",
          "text": [
            "45000/45000 [==============================] - 8s 188us/step - loss: 1.2006 - acc: 0.5478 - val_loss: 1.2091 - val_acc: 0.5351\n",
            "Epoch 7/50\n",
            "45000/45000 [==============================] - 9s 189us/step - loss: 1.1574 - acc: 0.5637 - val_loss: 1.1368 - val_acc: 0.5678\n",
            "Epoch 8/50\n",
            "45000/45000 [==============================] - 9s 189us/step - loss: 1.0964 - acc: 0.5848 - val_loss: 1.0667 - val_acc: 0.5945\n",
            "Epoch 9/50\n",
            "15360/45000 [=========>....................] - ETA: 5s - loss: 1.0363 - acc: 0.6072"
          ],
          "name": "stdout"
        },
        {
          "output_type": "stream",
          "text": [
            "45000/45000 [==============================] - 8s 186us/step - loss: 1.0101 - acc: 0.6186 - val_loss: 0.9786 - val_acc: 0.6315\n",
            "Epoch 10/50\n",
            "45000/45000 [==============================] - 8s 187us/step - loss: 0.9369 - acc: 0.6486 - val_loss: 0.9136 - val_acc: 0.6554\n",
            "Epoch 11/50\n",
            "45000/45000 [==============================] - 8s 188us/step - loss: 0.8804 - acc: 0.6703 - val_loss: 0.8576 - val_acc: 0.6767\n",
            "Epoch 12/50\n",
            "14592/45000 [========>.....................] - ETA: 5s - loss: 0.8364 - acc: 0.6882"
          ],
          "name": "stdout"
        },
        {
          "output_type": "stream",
          "text": [
            "45000/45000 [==============================] - 8s 185us/step - loss: 0.8219 - acc: 0.6918 - val_loss: 0.8014 - val_acc: 0.6985\n",
            "Epoch 13/50\n",
            "45000/45000 [==============================] - 8s 185us/step - loss: 0.7798 - acc: 0.7079 - val_loss: 0.7820 - val_acc: 0.7026\n",
            "Epoch 14/50\n",
            "45000/45000 [==============================] - 8s 186us/step - loss: 0.7472 - acc: 0.7210 - val_loss: 0.7471 - val_acc: 0.7191\n",
            "Epoch 15/50\n",
            "14848/45000 [========>.....................] - ETA: 5s - loss: 0.7330 - acc: 0.7257"
          ],
          "name": "stdout"
        },
        {
          "output_type": "stream",
          "text": [
            "45000/45000 [==============================] - 8s 185us/step - loss: 0.7231 - acc: 0.7300 - val_loss: 0.7166 - val_acc: 0.7294\n",
            "Epoch 16/50\n",
            "45000/45000 [==============================] - 8s 186us/step - loss: 0.7066 - acc: 0.7352 - val_loss: 0.6971 - val_acc: 0.7390\n",
            "Epoch 17/50\n",
            "45000/45000 [==============================] - 8s 188us/step - loss: 0.6937 - acc: 0.7394 - val_loss: 0.6884 - val_acc: 0.7400\n",
            "Epoch 18/50\n",
            "15104/45000 [=========>....................] - ETA: 5s - loss: 0.6795 - acc: 0.7461"
          ],
          "name": "stdout"
        },
        {
          "output_type": "stream",
          "text": [
            "45000/45000 [==============================] - 8s 188us/step - loss: 0.6743 - acc: 0.7479 - val_loss: 0.6763 - val_acc: 0.7457\n",
            "Epoch 19/50\n",
            "45000/45000 [==============================] - 9s 190us/step - loss: 0.6515 - acc: 0.7571 - val_loss: 0.6735 - val_acc: 0.7438\n",
            "Epoch 20/50\n",
            "45000/45000 [==============================] - 9s 190us/step - loss: 0.6204 - acc: 0.7681 - val_loss: 0.6374 - val_acc: 0.7562\n",
            "Epoch 21/50\n",
            "13696/45000 [========>.....................] - ETA: 5s - loss: 0.5857 - acc: 0.7808"
          ],
          "name": "stdout"
        },
        {
          "output_type": "stream",
          "text": [
            "45000/45000 [==============================] - 8s 189us/step - loss: 0.5569 - acc: 0.7907 - val_loss: 0.5938 - val_acc: 0.7803\n",
            "Epoch 22/50\n",
            "45000/45000 [==============================] - 8s 189us/step - loss: 0.4422 - acc: 0.8399 - val_loss: 0.4127 - val_acc: 0.8549\n",
            "Epoch 23/50\n",
            "45000/45000 [==============================] - 9s 189us/step - loss: 0.3473 - acc: 0.8823 - val_loss: 0.3253 - val_acc: 0.8896\n",
            "Epoch 24/50\n",
            "13568/45000 [========>.....................] - ETA: 5s - loss: 0.3109 - acc: 0.8964"
          ],
          "name": "stdout"
        },
        {
          "output_type": "stream",
          "text": [
            "45000/45000 [==============================] - 8s 189us/step - loss: 0.2852 - acc: 0.9069 - val_loss: 0.2800 - val_acc: 0.9044\n",
            "Epoch 25/50\n",
            "45000/45000 [==============================] - 9s 190us/step - loss: 0.2181 - acc: 0.9304 - val_loss: 0.2064 - val_acc: 0.9303\n",
            "Epoch 26/50\n",
            "45000/45000 [==============================] - 9s 190us/step - loss: 0.1726 - acc: 0.9467 - val_loss: 0.1652 - val_acc: 0.9486\n",
            "Epoch 27/50\n",
            "13056/45000 [=======>......................] - ETA: 5s - loss: 0.1450 - acc: 0.9584"
          ],
          "name": "stdout"
        },
        {
          "output_type": "stream",
          "text": [
            "45000/45000 [==============================] - 8s 189us/step - loss: 0.1374 - acc: 0.9609 - val_loss: 0.1415 - val_acc: 0.9549\n",
            "Epoch 28/50\n",
            "45000/45000 [==============================] - 9s 189us/step - loss: 0.1182 - acc: 0.9667 - val_loss: 0.1090 - val_acc: 0.9701\n",
            "Epoch 29/50\n",
            "45000/45000 [==============================] - 8s 187us/step - loss: 0.0858 - acc: 0.9796 - val_loss: 0.1029 - val_acc: 0.9690\n",
            "Epoch 30/50\n",
            "12544/45000 [=======>......................] - ETA: 5s - loss: 0.0886 - acc: 0.9765"
          ],
          "name": "stdout"
        },
        {
          "output_type": "stream",
          "text": [
            "45000/45000 [==============================] - 8s 186us/step - loss: 0.0822 - acc: 0.9789 - val_loss: 0.0795 - val_acc: 0.9795\n",
            "Epoch 31/50\n",
            "45000/45000 [==============================] - 8s 187us/step - loss: 0.0878 - acc: 0.9762 - val_loss: 0.0804 - val_acc: 0.9781\n",
            "Epoch 32/50\n",
            "45000/45000 [==============================] - 8s 187us/step - loss: 0.0501 - acc: 0.9899 - val_loss: 0.0507 - val_acc: 0.9884\n",
            "Epoch 33/50\n",
            "14208/45000 [========>.....................] - ETA: 5s - loss: 0.0402 - acc: 0.9929"
          ],
          "name": "stdout"
        },
        {
          "output_type": "stream",
          "text": [
            "45000/45000 [==============================] - 8s 187us/step - loss: 0.0559 - acc: 0.9861 - val_loss: 0.1022 - val_acc: 0.9679\n",
            "Epoch 34/50\n",
            "45000/45000 [==============================] - 8s 187us/step - loss: 0.0457 - acc: 0.9892 - val_loss: 0.0410 - val_acc: 0.9903\n",
            "Epoch 35/50\n",
            "45000/45000 [==============================] - 8s 186us/step - loss: 0.0359 - acc: 0.9920 - val_loss: 0.0648 - val_acc: 0.9800\n",
            "Epoch 36/50\n",
            "14592/45000 [========>.....................] - ETA: 5s - loss: 0.0429 - acc: 0.9886"
          ],
          "name": "stdout"
        },
        {
          "output_type": "stream",
          "text": [
            "45000/45000 [==============================] - 8s 187us/step - loss: 0.0498 - acc: 0.9855 - val_loss: 0.0489 - val_acc: 0.9860\n",
            "Epoch 37/50\n",
            "45000/45000 [==============================] - 9s 189us/step - loss: 0.0280 - acc: 0.9941 - val_loss: 0.0551 - val_acc: 0.9835\n",
            "Epoch 38/50\n",
            "45000/45000 [==============================] - 9s 191us/step - loss: 0.0350 - acc: 0.9907 - val_loss: 0.0484 - val_acc: 0.9847\n",
            "Epoch 39/50\n",
            "13312/45000 [=======>......................] - ETA: 5s - loss: 0.0374 - acc: 0.9894"
          ],
          "name": "stdout"
        },
        {
          "output_type": "stream",
          "text": [
            "45000/45000 [==============================] - 9s 192us/step - loss: 0.0488 - acc: 0.9853 - val_loss: 0.0764 - val_acc: 0.9738\n",
            "Epoch 40/50\n",
            "45000/45000 [==============================] - 9s 191us/step - loss: 0.0256 - acc: 0.9940 - val_loss: 0.0280 - val_acc: 0.9929\n",
            "Epoch 41/50\n",
            "45000/45000 [==============================] - 9s 190us/step - loss: 0.0185 - acc: 0.9960 - val_loss: 0.0713 - val_acc: 0.9769\n",
            "Epoch 42/50\n",
            "14080/45000 [========>.....................] - ETA: 5s - loss: 0.0410 - acc: 0.9868"
          ],
          "name": "stdout"
        },
        {
          "output_type": "stream",
          "text": [
            "45000/45000 [==============================] - 9s 191us/step - loss: 0.0563 - acc: 0.9820 - val_loss: 0.0287 - val_acc: 0.9925\n",
            "Epoch 43/50\n",
            "45000/45000 [==============================] - 9s 192us/step - loss: 0.0130 - acc: 0.9980 - val_loss: 0.0236 - val_acc: 0.9930\n",
            "Epoch 44/50\n",
            "45000/45000 [==============================] - 8s 187us/step - loss: 0.0123 - acc: 0.9978 - val_loss: 0.0296 - val_acc: 0.9903\n",
            "Epoch 45/50\n",
            "13312/45000 [=======>......................] - ETA: 5s - loss: 0.0890 - acc: 0.9728"
          ],
          "name": "stdout"
        },
        {
          "output_type": "stream",
          "text": [
            "45000/45000 [==============================] - 9s 189us/step - loss: 0.0544 - acc: 0.9833 - val_loss: 0.0233 - val_acc: 0.9945\n",
            "Epoch 46/50\n",
            "45000/45000 [==============================] - 9s 189us/step - loss: 0.0229 - acc: 0.9939 - val_loss: 0.0136 - val_acc: 0.9972\n",
            "Epoch 47/50\n",
            "45000/45000 [==============================] - 9s 189us/step - loss: 0.0082 - acc: 0.9989 - val_loss: 0.0146 - val_acc: 0.9962\n",
            "Epoch 48/50\n",
            "13824/45000 [========>.....................] - ETA: 5s - loss: 0.0079 - acc: 0.9988"
          ],
          "name": "stdout"
        },
        {
          "output_type": "stream",
          "text": [
            "45000/45000 [==============================] - 8s 189us/step - loss: 0.0078 - acc: 0.9988 - val_loss: 0.0161 - val_acc: 0.9961\n",
            "Epoch 49/50\n",
            "45000/45000 [==============================] - 9s 189us/step - loss: 0.0643 - acc: 0.9791 - val_loss: 0.0815 - val_acc: 0.9719\n",
            "Epoch 50/50\n",
            "45000/45000 [==============================] - 9s 189us/step - loss: 0.0130 - acc: 0.9971 - val_loss: 0.0131 - val_acc: 0.9968\n"
          ],
          "name": "stdout"
        }
      ]
    },
    {
      "metadata": {
        "id": "yS-ym8nFVkSj",
        "colab_type": "code",
        "colab": {
          "autoexec": {
            "startup": false,
            "wait_interval": 0
          },
          "output_extras": [
            {
              "item_id": 1
            }
          ],
          "base_uri": "https://localhost:8080/",
          "height": 361
        },
        "outputId": "e37b79f5-3cdc-42f3-b3e5-ff42b0ef8559",
        "executionInfo": {
          "status": "ok",
          "timestamp": 1522085943573,
          "user_tz": -480,
          "elapsed": 792,
          "user": {
            "displayName": "Jacky Ho",
            "photoUrl": "https://lh3.googleusercontent.com/a/default-user=s128",
            "userId": "110853316533016897850"
          }
        }
      },
      "cell_type": "code",
      "source": [
        "plotloss(historyGRU)"
      ],
      "execution_count": 156,
      "outputs": [
        {
          "output_type": "display_data",
          "data": {
            "image/png": "[encoded data removed]",
            "text/plain": [
              "<matplotlib.figure.Figure at 0x7f04f75c0be0>"
            ]
          },
          "metadata": {
            "tags": []
          }
        }
      ]
    },
    {
      "metadata": {
        "id": "LTtqOWBAXU1h",
        "colab_type": "code",
        "colab": {
          "autoexec": {
            "startup": false,
            "wait_interval": 0
          },
          "output_extras": [
            {
              "item_id": 7
            }
          ],
          "base_uri": "https://localhost:8080/",
          "height": 68
        },
        "outputId": "7be6bb04-5a68-4acd-d1c1-07b3175889ff",
        "executionInfo": {
          "status": "ok",
          "timestamp": 1522085656022,
          "user_tz": -480,
          "elapsed": 2573,
          "user": {
            "displayName": "Jacky Ho",
            "photoUrl": "https://lh3.googleusercontent.com/a/default-user=s128",
            "userId": "110853316533016897850"
          }
        }
      },
      "cell_type": "code",
      "source": [
        "# Your code here\n",
        "loss,accuracy = model.evaluate(X_test,y_test)\n",
        "print('loss on test_X:',loss)\n",
        "print('Accuracy on test_X:',accuracy)"
      ],
      "execution_count": 153,
      "outputs": [
        {
          "output_type": "stream",
          "text": [
            "10000/10000 [==============================] - 2s 202us/step\n",
            "loss on test_X: 0.011853368822857738\n",
            "Accuracy on test_X: 0.997275\n"
          ],
          "name": "stdout"
        }
      ]
    },
    {
      "metadata": {
        "id": "qY0Dm_8NX-r1",
        "colab_type": "code",
        "colab": {
          "autoexec": {
            "startup": false,
            "wait_interval": 0
          }
        }
      },
      "cell_type": "code",
      "source": [
        ""
      ],
      "execution_count": 0,
      "outputs": []
    },
    {
      "metadata": {
        "id": "mVBGyzz6dv_C",
        "colab_type": "text"
      },
      "cell_type": "markdown",
      "source": [
        "# Reverse the input of data"
      ]
    },
    {
      "metadata": {
        "id": "U5jAWL1ccK2n",
        "colab_type": "code",
        "colab": {
          "autoexec": {
            "startup": false,
            "wait_interval": 0
          },
          "output_extras": [
            {
              "item_id": 1
            }
          ],
          "base_uri": "https://localhost:8080/",
          "height": 306
        },
        "outputId": "cff509d7-1df0-43e4-f910-001fb871051c",
        "executionInfo": {
          "status": "ok",
          "timestamp": 1522087291741,
          "user_tz": -480,
          "elapsed": 987,
          "user": {
            "displayName": "Jacky Ho",
            "photoUrl": "https://lh3.googleusercontent.com/a/default-user=s128",
            "userId": "110853316533016897850"
          }
        }
      },
      "cell_type": "code",
      "source": [
        "modelRV = Sequential()\n",
        "modelRV.add(LSTM(128,return_sequences=False,input_shape=(7,12),go_backwards=True))\n",
        "modelRV.add(RepeatVector(4))\n",
        "modelRV.add(LSTM(128,return_sequences=True))\n",
        "modelRV.add(TimeDistributed(Dense(12)))\n",
        "modelRV.add(Activation('softmax'))\n",
        "modelRV.summary()"
      ],
      "execution_count": 165,
      "outputs": [
        {
          "output_type": "stream",
          "text": [
            "_________________________________________________________________\n",
            "Layer (type)                 Output Shape              Param #   \n",
            "=================================================================\n",
            "lstm_15 (LSTM)               (None, 128)               72192     \n",
            "_________________________________________________________________\n",
            "repeat_vector_11 (RepeatVect (None, 4, 128)            0         \n",
            "_________________________________________________________________\n",
            "lstm_16 (LSTM)               (None, 4, 128)            131584    \n",
            "_________________________________________________________________\n",
            "time_distributed_11 (TimeDis (None, 4, 12)             1548      \n",
            "_________________________________________________________________\n",
            "activation_11 (Activation)   (None, 4, 12)             0         \n",
            "=================================================================\n",
            "Total params: 205,324\n",
            "Trainable params: 205,324\n",
            "Non-trainable params: 0\n",
            "_________________________________________________________________\n"
          ],
          "name": "stdout"
        }
      ]
    },
    {
      "metadata": {
        "id": "nq9oDUKleGfq",
        "colab_type": "code",
        "colab": {
          "autoexec": {
            "startup": false,
            "wait_interval": 0
          },
          "output_extras": [
            {
              "item_id": 79
            },
            {
              "item_id": 164
            },
            {
              "item_id": 236
            },
            {
              "item_id": 305
            },
            {
              "item_id": 372
            },
            {
              "item_id": 439
            },
            {
              "item_id": 508
            },
            {
              "item_id": 577
            },
            {
              "item_id": 646
            },
            {
              "item_id": 716
            },
            {
              "item_id": 785
            },
            {
              "item_id": 853
            },
            {
              "item_id": 925
            },
            {
              "item_id": 991
            },
            {
              "item_id": 1055
            },
            {
              "item_id": 1125
            },
            {
              "item_id": 1195
            },
            {
              "item_id": 1263
            },
            {
              "item_id": 1330
            },
            {
              "item_id": 1394
            },
            {
              "item_id": 1461
            },
            {
              "item_id": 1529
            },
            {
              "item_id": 1597
            },
            {
              "item_id": 1665
            },
            {
              "item_id": 1704
            }
          ],
          "base_uri": "https://localhost:8080/",
          "height": 1754
        },
        "outputId": "0b84c17c-529f-4bb7-dc67-bb2286fbb49d",
        "executionInfo": {
          "status": "ok",
          "timestamp": 1522087832540,
          "user_tz": -480,
          "elapsed": 519051,
          "user": {
            "displayName": "Jacky Ho",
            "photoUrl": "https://lh3.googleusercontent.com/a/default-user=s128",
            "userId": "110853316533016897850"
          }
        }
      },
      "cell_type": "code",
      "source": [
        "modelRV.compile(optimizer=Adam(lr=0.001,decay=1e-6),loss='categorical_crossentropy',metrics=['accuracy'])\n",
        "historyRV=modelRV.fit(X_train,y_train,validation_split=0.1,batch_size=128,epochs=50,verbose=1)"
      ],
      "execution_count": 167,
      "outputs": [
        {
          "output_type": "stream",
          "text": [
            "Train on 45000 samples, validate on 5000 samples\n",
            "Epoch 1/50\n",
            "45000/45000 [==============================] - 13s 281us/step - loss: 1.8989 - acc: 0.3185 - val_loss: 1.7846 - val_acc: 0.3356\n",
            "Epoch 2/50\n",
            "45000/45000 [==============================] - 11s 236us/step - loss: 1.7369 - acc: 0.3599 - val_loss: 1.6673 - val_acc: 0.3760\n",
            "Epoch 3/50\n",
            "14720/45000 [========>.....................] - ETA: 6s - loss: 1.6363 - acc: 0.3906"
          ],
          "name": "stdout"
        },
        {
          "output_type": "stream",
          "text": [
            "45000/45000 [==============================] - 11s 234us/step - loss: 1.5836 - acc: 0.4057 - val_loss: 1.5090 - val_acc: 0.4291\n",
            "Epoch 4/50\n",
            "45000/45000 [==============================] - 10s 232us/step - loss: 1.4322 - acc: 0.4642 - val_loss: 1.3677 - val_acc: 0.4854\n",
            "Epoch 5/50\n",
            "35712/45000 [======================>.......] - ETA: 2s - loss: 1.3048 - acc: 0.5148"
          ],
          "name": "stdout"
        },
        {
          "output_type": "stream",
          "text": [
            "45000/45000 [==============================] - 11s 237us/step - loss: 1.2932 - acc: 0.5199 - val_loss: 1.2285 - val_acc: 0.5476\n",
            "Epoch 6/50\n",
            "45000/45000 [==============================] - 11s 239us/step - loss: 1.1778 - acc: 0.5636 - val_loss: 1.1485 - val_acc: 0.5665\n",
            "Epoch 7/50\n",
            "40576/45000 [==========================>...] - ETA: 0s - loss: 1.0643 - acc: 0.6084"
          ],
          "name": "stdout"
        },
        {
          "output_type": "stream",
          "text": [
            "45000/45000 [==============================] - 10s 225us/step - loss: 1.0592 - acc: 0.6105 - val_loss: 0.9996 - val_acc: 0.6401\n",
            "Epoch 8/50\n",
            "45000/45000 [==============================] - 10s 225us/step - loss: 0.9559 - acc: 0.6553 - val_loss: 0.9336 - val_acc: 0.6631\n",
            "Epoch 9/50\n",
            "41600/45000 [==========================>...] - ETA: 0s - loss: 0.8738 - acc: 0.6864"
          ],
          "name": "stdout"
        },
        {
          "output_type": "stream",
          "text": [
            "45000/45000 [==============================] - 10s 223us/step - loss: 0.8719 - acc: 0.6871 - val_loss: 0.8322 - val_acc: 0.7032\n",
            "Epoch 10/50\n",
            "45000/45000 [==============================] - 10s 218us/step - loss: 0.7980 - acc: 0.7156 - val_loss: 0.7717 - val_acc: 0.7217\n",
            "Epoch 11/50\n",
            "41600/45000 [==========================>...] - ETA: 0s - loss: 0.7349 - acc: 0.7402"
          ],
          "name": "stdout"
        },
        {
          "output_type": "stream",
          "text": [
            "45000/45000 [==============================] - 10s 221us/step - loss: 0.7323 - acc: 0.7414 - val_loss: 0.7033 - val_acc: 0.7457\n",
            "Epoch 12/50\n",
            "45000/45000 [==============================] - 10s 220us/step - loss: 0.6480 - acc: 0.7683 - val_loss: 0.6047 - val_acc: 0.7762\n",
            "Epoch 13/50\n",
            "41728/45000 [==========================>...] - ETA: 0s - loss: 0.5141 - acc: 0.8183"
          ],
          "name": "stdout"
        },
        {
          "output_type": "stream",
          "text": [
            "45000/45000 [==============================] - 10s 219us/step - loss: 0.5082 - acc: 0.8207 - val_loss: 0.4342 - val_acc: 0.8538\n",
            "Epoch 14/50\n",
            "45000/45000 [==============================] - 10s 221us/step - loss: 0.3692 - acc: 0.8820 - val_loss: 0.3107 - val_acc: 0.9099\n",
            "Epoch 15/50\n",
            "41600/45000 [==========================>...] - ETA: 0s - loss: 0.2593 - acc: 0.9325"
          ],
          "name": "stdout"
        },
        {
          "output_type": "stream",
          "text": [
            "45000/45000 [==============================] - 10s 230us/step - loss: 0.2565 - acc: 0.9337 - val_loss: 0.2483 - val_acc: 0.9338\n",
            "Epoch 16/50\n",
            "45000/45000 [==============================] - 10s 231us/step - loss: 0.1813 - acc: 0.9606 - val_loss: 0.1548 - val_acc: 0.9663\n",
            "Epoch 17/50\n",
            "41600/45000 [==========================>...] - ETA: 0s - loss: 0.1328 - acc: 0.9738"
          ],
          "name": "stdout"
        },
        {
          "output_type": "stream",
          "text": [
            "45000/45000 [==============================] - 10s 230us/step - loss: 0.1325 - acc: 0.9737 - val_loss: 0.1383 - val_acc: 0.9634\n",
            "Epoch 18/50\n",
            "45000/45000 [==============================] - 10s 227us/step - loss: 0.1016 - acc: 0.9801 - val_loss: 0.0919 - val_acc: 0.9811\n",
            "Epoch 19/50\n",
            "41600/45000 [==========================>...] - ETA: 0s - loss: 0.0728 - acc: 0.9886"
          ],
          "name": "stdout"
        },
        {
          "output_type": "stream",
          "text": [
            "45000/45000 [==============================] - 10s 230us/step - loss: 0.0719 - acc: 0.9887 - val_loss: 0.0731 - val_acc: 0.9865\n",
            "Epoch 20/50\n",
            "45000/45000 [==============================] - 10s 231us/step - loss: 0.0776 - acc: 0.9826 - val_loss: 0.0584 - val_acc: 0.9892\n",
            "Epoch 21/50\n",
            "41600/45000 [==========================>...] - ETA: 0s - loss: 0.0517 - acc: 0.9912"
          ],
          "name": "stdout"
        },
        {
          "output_type": "stream",
          "text": [
            "45000/45000 [==============================] - 10s 231us/step - loss: 0.0517 - acc: 0.9911 - val_loss: 0.0595 - val_acc: 0.9859\n",
            "Epoch 22/50\n",
            "45000/45000 [==============================] - 10s 225us/step - loss: 0.0382 - acc: 0.9949 - val_loss: 0.0420 - val_acc: 0.9917\n",
            "Epoch 23/50\n",
            "41600/45000 [==========================>...] - ETA: 0s - loss: 0.0372 - acc: 0.9939"
          ],
          "name": "stdout"
        },
        {
          "output_type": "stream",
          "text": [
            "45000/45000 [==============================] - 10s 221us/step - loss: 0.0368 - acc: 0.9939 - val_loss: 0.0488 - val_acc: 0.9870\n",
            "Epoch 24/50\n",
            "45000/45000 [==============================] - 10s 220us/step - loss: 0.0462 - acc: 0.9892 - val_loss: 0.0306 - val_acc: 0.9944\n",
            "Epoch 25/50\n",
            "41600/45000 [==========================>...] - ETA: 0s - loss: 0.0217 - acc: 0.9977"
          ],
          "name": "stdout"
        },
        {
          "output_type": "stream",
          "text": [
            "45000/45000 [==============================] - 10s 231us/step - loss: 0.0218 - acc: 0.9976 - val_loss: 0.0324 - val_acc: 0.9928\n",
            "Epoch 26/50\n",
            "45000/45000 [==============================] - 11s 235us/step - loss: 0.0215 - acc: 0.9972 - val_loss: 0.0368 - val_acc: 0.9900\n",
            "Epoch 27/50\n",
            "41600/45000 [==========================>...] - ETA: 0s - loss: 0.0474 - acc: 0.9870"
          ],
          "name": "stdout"
        },
        {
          "output_type": "stream",
          "text": [
            "45000/45000 [==============================] - 10s 231us/step - loss: 0.0450 - acc: 0.9878 - val_loss: 0.0229 - val_acc: 0.9952\n",
            "Epoch 28/50\n",
            "45000/45000 [==============================] - 10s 230us/step - loss: 0.0129 - acc: 0.9991 - val_loss: 0.0173 - val_acc: 0.9970\n",
            "Epoch 29/50\n",
            "41600/45000 [==========================>...] - ETA: 0s - loss: 0.0142 - acc: 0.9983"
          ],
          "name": "stdout"
        },
        {
          "output_type": "stream",
          "text": [
            "45000/45000 [==============================] - 10s 224us/step - loss: 0.0242 - acc: 0.9952 - val_loss: 0.1831 - val_acc: 0.9344\n",
            "Epoch 30/50\n",
            "45000/45000 [==============================] - 10s 221us/step - loss: 0.0327 - acc: 0.9913 - val_loss: 0.0172 - val_acc: 0.9970\n",
            "Epoch 31/50\n",
            "41600/45000 [==========================>...] - ETA: 0s - loss: 0.0114 - acc: 0.9988"
          ],
          "name": "stdout"
        },
        {
          "output_type": "stream",
          "text": [
            "45000/45000 [==============================] - 10s 226us/step - loss: 0.0112 - acc: 0.9988 - val_loss: 0.0116 - val_acc: 0.9983\n",
            "Epoch 32/50\n",
            "45000/45000 [==============================] - 10s 231us/step - loss: 0.0075 - acc: 0.9996 - val_loss: 0.0112 - val_acc: 0.9982\n",
            "Epoch 33/50\n",
            "41088/45000 [==========================>...] - ETA: 0s - loss: 0.0443 - acc: 0.9873"
          ],
          "name": "stdout"
        },
        {
          "output_type": "stream",
          "text": [
            "45000/45000 [==============================] - 11s 233us/step - loss: 0.0423 - acc: 0.9879 - val_loss: 0.0203 - val_acc: 0.9956\n",
            "Epoch 34/50\n",
            "45000/45000 [==============================] - 10s 231us/step - loss: 0.0087 - acc: 0.9993 - val_loss: 0.0104 - val_acc: 0.9983\n",
            "Epoch 35/50\n",
            "41344/45000 [==========================>...] - ETA: 0s - loss: 0.0056 - acc: 0.9998"
          ],
          "name": "stdout"
        },
        {
          "output_type": "stream",
          "text": [
            "45000/45000 [==============================] - 10s 227us/step - loss: 0.0057 - acc: 0.9998 - val_loss: 0.0095 - val_acc: 0.9986\n",
            "Epoch 36/50\n",
            "45000/45000 [==============================] - 10s 230us/step - loss: 0.0051 - acc: 0.9998 - val_loss: 0.0082 - val_acc: 0.9989\n",
            "Epoch 37/50\n",
            "41344/45000 [==========================>...] - ETA: 0s - loss: 0.0336 - acc: 0.9898"
          ],
          "name": "stdout"
        },
        {
          "output_type": "stream",
          "text": [
            "45000/45000 [==============================] - 10s 232us/step - loss: 0.0348 - acc: 0.9894 - val_loss: 0.0473 - val_acc: 0.9838\n",
            "Epoch 38/50\n",
            "45000/45000 [==============================] - 10s 230us/step - loss: 0.0216 - acc: 0.9945 - val_loss: 0.0171 - val_acc: 0.9958\n",
            "Epoch 39/50\n",
            "41344/45000 [==========================>...] - ETA: 0s - loss: 0.0052 - acc: 0.9997"
          ],
          "name": "stdout"
        },
        {
          "output_type": "stream",
          "text": [
            "45000/45000 [==============================] - 10s 231us/step - loss: 0.0051 - acc: 0.9997 - val_loss: 0.0072 - val_acc: 0.9987\n",
            "Epoch 40/50\n",
            "45000/45000 [==============================] - 10s 227us/step - loss: 0.0036 - acc: 0.9999 - val_loss: 0.0061 - val_acc: 0.9991\n",
            "Epoch 41/50\n",
            "41344/45000 [==========================>...] - ETA: 0s - loss: 0.0033 - acc: 0.9998"
          ],
          "name": "stdout"
        },
        {
          "output_type": "stream",
          "text": [
            "45000/45000 [==============================] - 11s 234us/step - loss: 0.0034 - acc: 0.9998 - val_loss: 0.0084 - val_acc: 0.9979\n",
            "Epoch 42/50\n",
            "45000/45000 [==============================] - 10s 232us/step - loss: 0.0319 - acc: 0.9904 - val_loss: 0.0126 - val_acc: 0.9971\n",
            "Epoch 43/50\n",
            "41344/45000 [==========================>...] - ETA: 0s - loss: 0.0042 - acc: 0.9997"
          ],
          "name": "stdout"
        },
        {
          "output_type": "stream",
          "text": [
            "45000/45000 [==============================] - 10s 224us/step - loss: 0.0042 - acc: 0.9997 - val_loss: 0.0065 - val_acc: 0.9984\n",
            "Epoch 44/50\n",
            "45000/45000 [==============================] - 10s 230us/step - loss: 0.0028 - acc: 0.9999 - val_loss: 0.0054 - val_acc: 0.9990\n",
            "Epoch 45/50\n",
            "41344/45000 [==========================>...] - ETA: 0s - loss: 0.0024 - acc: 0.9999"
          ],
          "name": "stdout"
        },
        {
          "output_type": "stream",
          "text": [
            "45000/45000 [==============================] - 10s 231us/step - loss: 0.0025 - acc: 0.9999 - val_loss: 0.0052 - val_acc: 0.9990\n",
            "Epoch 46/50\n",
            "45000/45000 [==============================] - 10s 233us/step - loss: 0.0424 - acc: 0.9875 - val_loss: 0.0119 - val_acc: 0.9970\n",
            "Epoch 47/50\n",
            "41344/45000 [==========================>...] - ETA: 0s - loss: 0.0042 - acc: 0.9997"
          ],
          "name": "stdout"
        },
        {
          "output_type": "stream",
          "text": [
            "45000/45000 [==============================] - 10s 231us/step - loss: 0.0041 - acc: 0.9997 - val_loss: 0.0054 - val_acc: 0.9990\n",
            "Epoch 48/50\n",
            "45000/45000 [==============================] - 10s 231us/step - loss: 0.0024 - acc: 1.0000 - val_loss: 0.0047 - val_acc: 0.9991\n",
            "Epoch 49/50\n",
            "41344/45000 [==========================>...] - ETA: 0s - loss: 0.0020 - acc: 1.0000"
          ],
          "name": "stdout"
        },
        {
          "output_type": "stream",
          "text": [
            "45000/45000 [==============================] - 10s 233us/step - loss: 0.0020 - acc: 1.0000 - val_loss: 0.0042 - val_acc: 0.9991\n",
            "Epoch 50/50\n",
            "45000/45000 [==============================] - 10s 233us/step - loss: 0.0018 - acc: 1.0000 - val_loss: 0.0040 - val_acc: 0.9992\n"
          ],
          "name": "stdout"
        }
      ]
    },
    {
      "metadata": {
        "id": "YnDRM7uKeJpv",
        "colab_type": "code",
        "colab": {
          "autoexec": {
            "startup": false,
            "wait_interval": 0
          },
          "output_extras": [
            {
              "item_id": 8
            }
          ],
          "base_uri": "https://localhost:8080/",
          "height": 68
        },
        "outputId": "8459f9ab-b3e3-4613-a56e-cee060acc145",
        "executionInfo": {
          "status": "ok",
          "timestamp": 1522087872809,
          "user_tz": -480,
          "elapsed": 2940,
          "user": {
            "displayName": "Jacky Ho",
            "photoUrl": "https://lh3.googleusercontent.com/a/default-user=s128",
            "userId": "110853316533016897850"
          }
        }
      },
      "cell_type": "code",
      "source": [
        "loss,accuracy = modelRV.evaluate(X_test,y_test)\n",
        "print('loss on test_X:',loss)\n",
        "print('Accuracy on test_X:',accuracy)"
      ],
      "execution_count": 168,
      "outputs": [
        {
          "output_type": "stream",
          "text": [
            "10000/10000 [==============================] - 2s 234us/step\n",
            "loss on test_X: 0.004069947195611894\n",
            "Accuracy on test_X: 0.999425\n"
          ],
          "name": "stdout"
        }
      ]
    },
    {
      "metadata": {
        "id": "9jZMbcwTgbza",
        "colab_type": "code",
        "colab": {
          "autoexec": {
            "startup": false,
            "wait_interval": 0
          },
          "output_extras": [
            {
              "item_id": 1
            }
          ],
          "base_uri": "https://localhost:8080/",
          "height": 361
        },
        "outputId": "1a18f0b3-db62-4784-f17d-7d5412f4e7c1",
        "executionInfo": {
          "status": "ok",
          "timestamp": 1522087974697,
          "user_tz": -480,
          "elapsed": 1011,
          "user": {
            "displayName": "Jacky Ho",
            "photoUrl": "https://lh3.googleusercontent.com/a/default-user=s128",
            "userId": "110853316533016897850"
          }
        }
      },
      "cell_type": "code",
      "source": [
        "plotloss(historyRV)"
      ],
      "execution_count": 169,
      "outputs": [
        {
          "output_type": "display_data",
          "data": {
            "image/png": "[encoded data removed]",
            "text/plain": [
              "<matplotlib.figure.Figure at 0x7f04f3f8b2b0>"
            ]
          },
          "metadata": {
            "tags": []
          }
        }
      ]
    },
    {
      "metadata": {
        "id": "TE_nHT5Jg1KN",
        "colab_type": "code",
        "colab": {
          "autoexec": {
            "startup": false,
            "wait_interval": 0
          },
          "output_extras": [
            {
              "item_id": 1
            }
          ],
          "base_uri": "https://localhost:8080/",
          "height": 34
        },
        "outputId": "11e2b51b-7bd9-4120-a3ec-9ef3f3869b19",
        "executionInfo": {
          "status": "ok",
          "timestamp": 1522088019689,
          "user_tz": -480,
          "elapsed": 1380,
          "user": {
            "displayName": "Jacky Ho",
            "photoUrl": "https://lh3.googleusercontent.com/a/default-user=s128",
            "userId": "110853316533016897850"
          }
        }
      },
      "cell_type": "code",
      "source": [
        "def char_to_categorical(inputs):\n",
        "  return np_utils.to_categorical([char_to_int[char] for char in inputs],len(chars)).reshape([1,7,12])\n",
        "\n",
        "answerMaps = {0:0 , 1:1 ,2:2, 3:3, 4:4 ,5:5,6:6,7:7,8:8,9:9,10:'+',11:' '}\n",
        "inputs = '15+15  '\n",
        "myinput = char_to_categorical(inputs)\n",
        "print(([answerMaps[idx] for idx in modelRV.predict(myinput).argmax(axis=2).flatten()])[0:3])"
      ],
      "execution_count": 171,
      "outputs": [
        {
          "output_type": "stream",
          "text": [
            "[3, 0, ' ']\n"
          ],
          "name": "stdout"
        }
      ]
    },
    {
      "metadata": {
        "id": "aCSR_3Vjg9Sv",
        "colab_type": "code",
        "colab": {
          "autoexec": {
            "startup": false,
            "wait_interval": 0
          }
        }
      },
      "cell_type": "code",
      "source": [
        "model.save_weights('model_weights_RV.h5')\n",
        "model.save('model_distributed_RV.h5')"
      ],
      "execution_count": 0,
      "outputs": []
    },
    {
      "metadata": {
        "id": "5EiRg1v3iG1b",
        "colab_type": "code",
        "colab": {
          "autoexec": {
            "startup": false,
            "wait_interval": 0
          },
          "output_extras": [
            {
              "item_id": 4
            }
          ],
          "base_uri": "https://localhost:8080/",
          "height": 119
        },
        "outputId": "74e309ef-ba72-492c-f3c2-97f833c4e1c5",
        "executionInfo": {
          "status": "ok",
          "timestamp": 1522088361871,
          "user_tz": -480,
          "elapsed": 5932,
          "user": {
            "displayName": "Jacky Ho",
            "photoUrl": "https://lh3.googleusercontent.com/a/default-user=s128",
            "userId": "110853316533016897850"
          }
        }
      },
      "cell_type": "code",
      "source": [
        "!gsutil cp model_weights_RV.h5 gs://myharddisk-1\n",
        "!gsutil cp model_distributed_RV.h5 gs://myharddisk-1"
      ],
      "execution_count": 173,
      "outputs": [
        {
          "output_type": "stream",
          "text": [
            "Copying file://model_weights_RV.h5 [Content-Type=application/octet-stream]...\n",
            "-\n",
            "Operation completed over 1 objects/818.1 KiB.                                    \n",
            "Copying file://model_distributed_RV.h5 [Content-Type=application/octet-stream]...\n",
            "-\n",
            "Operation completed over 1 objects/2.4 MiB.                                      \n"
          ],
          "name": "stdout"
        }
      ]
    },
    {
      "metadata": {
        "id": "siL1KXcBiSer",
        "colab_type": "code",
        "colab": {
          "autoexec": {
            "startup": false,
            "wait_interval": 0
          }
        }
      },
      "cell_type": "code",
      "source": [
        ""
      ],
      "execution_count": 0,
      "outputs": []
    }
  ]
}